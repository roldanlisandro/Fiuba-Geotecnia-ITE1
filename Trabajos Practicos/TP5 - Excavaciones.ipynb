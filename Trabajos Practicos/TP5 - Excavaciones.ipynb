{
  "nbformat": 4,
  "nbformat_minor": 0,
  "metadata": {
    "colab": {
      "provenance": [],
      "toc_visible": true
    },
    "kernelspec": {
      "name": "python3",
      "display_name": "Python 3"
    },
    "language_info": {
      "name": "python"
    }
  },
  "cells": [
    {
      "cell_type": "markdown",
      "source": [
        "<a target=\"_blank\" href=\"https://colab.research.google.com/github/roldanlisandro/Fiuba-Geotecnia-ITE1/blob/main/Trabajos%20Practicos/TP5%20-%20Excavaciones.ipynb\">\n",
        "  <img src=\"https://colab.research.google.com/assets/colab-badge.svg\" alt=\"Open In Colab\"/>\n",
        "</a>"
      ],
      "metadata": {
        "id": "8-7vNlh-isnC"
      }
    },
    {
      "cell_type": "markdown",
      "source": [
        "# Trabajo Práctico 5 - Excavaciones\n",
        "Interacción Terreno-Estructura I\n",
        "\n",
        "Especialización en Ingeniería Geotécnica\n",
        "\n",
        "Dpto. de Estabilidad - Facultad de Ingeniería - UBA"
      ],
      "metadata": {
        "id": "DotGJ-wxNIRn"
      }
    },
    {
      "cell_type": "markdown",
      "source": [
        "**Alumno**: "
      ],
      "metadata": {
        "id": "VMzB6ISHNVsA"
      }
    },
    {
      "cell_type": "code",
      "source": [
        "import numpy as np\n",
        "import matplotlib.pyplot as plt\n",
        "from scipy import stats\n",
        "from scipy.integrate import quad"
      ],
      "metadata": {
        "id": "uT99Xov9TNLY"
      },
      "execution_count": null,
      "outputs": []
    },
    {
      "cell_type": "markdown",
      "source": [
        "## Introducción\n",
        "\n",
        "El objetivo de este trabajo práctico es comparar métodos empíricos y semi-empíricos para estimación de deformaciones en excavaciones con modelos numéricos avanzados."
      ],
      "metadata": {
        "id": "kTIxwi66NXcW"
      }
    },
    {
      "cell_type": "markdown",
      "source": [
        "## Ejercicio 1\n",
        "\n",
        "Se diseñó la excavación apuntalada que se muestra en la figura a nivel de facibilidad. Usando el método semi-empírico de Zapata-Medina mostrado en clase, estimar el perfile de deformaciones horizontales en la cara vertical y el perfil de asentamientos en superficie. Asumir que todo el terreno está construido en arcilla y el nivel freático se encuentra por en -30m.\n",
        "\n",
        "![image.png](data:image/png;base64,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)"
      ],
      "metadata": {
        "id": "uPe69Pk7DGVj"
      }
    },
    {
      "cell_type": "code",
      "source": [
        "#Datos\n",
        "\n",
        "H = 16.3 #altura del muro colado en metros\n",
        "He = 9.6 #altura de la excavación en metros\n",
        "I = 0.018 #momento de inercial del muro en m4/m\n",
        "Eh = 30000000 #módulo de elasticidad del hormigón en kPa\n",
        "Sv = 3.2 #separación vertical del apuntalamiento en m\n",
        "Sh = 1.5 #separación horizontal del apuntalamiento en m\n",
        "gamma_s = 20 #peso específico promedio del suelo\n",
        "su = 120 #resistencia al corte no drenada en kPa\n",
        "phi = 33 #ángulo de fricción efectivo, en °\n",
        "E50ref = 72000 #módulo de deformación del suelo en kPa, asumir E50=Eoed y Eur=3E50\n",
        "m=1 #exponente de jambu\n",
        "FS = 4 #factor de seguridad\n",
        "k = 0.15e-3 #coeficiente de permeabilidad, en m/dia\n"
      ],
      "metadata": {
        "id": "ce_42nPwDxsi"
      },
      "execution_count": null,
      "outputs": []
    },
    {
      "cell_type": "markdown",
      "source": [
        "## Ejercicio 2\n",
        "\n",
        "En clase estudiamos que la deformación en las excavaciones dependen altamente del procedimiento constructivo y poder simular adecuadamente el comportamiento tensión-deformación de los materiales.\n",
        "\n",
        "Realizar un modelo en Plaxis (o software alternativo) usando el modelo Hardening Soil Model o Hardening Soil Small. Comparar los resultados con los obtenidos por el método semi-empírico. De no contar con los datos necesarios para modelar algún elemento, utilice su criterio (y explíquelo) para seleccionar el parámetro que corresponda.\n",
        "\n",
        "Analice la sensibilidad de la rigidez axial del sistema de apuntalamiento y la secuencia de instalación.\n",
        "\n",
        "Escriba una conclusión corta sobre su análisis y las limitaciones/ventajas de los métodos empíricos."
      ],
      "metadata": {
        "id": "VS5rVF6lFnA3"
      }
    },
    {
      "cell_type": "markdown",
      "source": [
        "## Ejercicio 3\n",
        "\n",
        "Estime el daño a una vivienda de mampostería de 10m de ancho que se encuentra a 10m de distancia de la excavación."
      ],
      "metadata": {
        "id": "2IvYkCLPIjio"
      }
    }
  ]
}