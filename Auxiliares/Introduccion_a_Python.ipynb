{
  "cells": [
    {
      "cell_type": "markdown",
      "source": [
        "<a target=\"_blank\" href=\"https://colab.research.google.com/github/roldanlisandro/Fiuba-Geotecnia-ITE1/blob/main/Auxiliares/Introduccion_a_Python.ipynb\">\n",
        "  <img src=\"https://colab.research.google.com/assets/colab-badge.svg\" alt=\"Open In Colab\"/>\n",
        "</a>"
      ],
      "metadata": {
        "id": "fX68skOP43mA"
      }
    },
    {
      "cell_type": "markdown",
      "metadata": {
        "id": "_-zJEyTjtdND"
      },
      "source": [
        "# **Conceptos básicos de programación en Python**"
      ]
    },
    {
      "cell_type": "markdown",
      "metadata": {
        "id": "GzCkIfGUwSXc"
      },
      "source": [
        "## Variables"
      ]
    },
    {
      "cell_type": "markdown",
      "metadata": {
        "id": "jdqv605mySz-"
      },
      "source": [
        "Las variables son contenedores para almacenar información. A diferencia de otros lenguajes de programación, Python no utiliza un comando para declarar una variable. Una variable se crea al momento en que le asignamos un valor.\n",
        "\n",
        "Para imprimir el valor de una variables usamos el comando `print()`."
      ]
    },
    {
      "cell_type": "code",
      "execution_count": 1,
      "metadata": {
        "colab": {
          "base_uri": "https://localhost:8080/"
        },
        "id": "82714oMByLGn",
        "outputId": "38e5f045-dc0c-4231-d70a-9717ee37b083",
        "vscode": {
          "languageId": "python"
        }
      },
      "outputs": [
        {
          "output_type": "stream",
          "name": "stdout",
          "text": [
            "5\n",
            "Juan\n"
          ]
        }
      ],
      "source": [
        "x = 5\n",
        "y = \"Juan\"\n",
        "print(x)\n",
        "print(y)"
      ]
    },
    {
      "cell_type": "markdown",
      "metadata": {
        "id": "32lM-Yaryb1f"
      },
      "source": [
        "Las variables pueden tener distinto tipo de información: texto, números enteros, números reales, listas, etc.."
      ]
    },
    {
      "cell_type": "code",
      "execution_count": 2,
      "metadata": {
        "id": "zRWXve4QyqKv",
        "vscode": {
          "languageId": "python"
        }
      },
      "outputs": [],
      "source": [
        "a=\"Texto\" #string\n",
        "b=20 #int (número entero)\n",
        "c=20.5 #float (número real)\n",
        "d=[\"manzana\",\"banana\",\"naranja\"] #list (lista)\n",
        "e= True #boolean (verdadero o falso)"
      ]
    },
    {
      "cell_type": "markdown",
      "metadata": {
        "id": "02WuWabgzsJm"
      },
      "source": [
        "Para conocer el tipo de información que contiene una variable usamos el comando\n",
        "`\n",
        "type()\n",
        "`\n",
        "\n"
      ]
    },
    {
      "cell_type": "code",
      "execution_count": 3,
      "metadata": {
        "colab": {
          "base_uri": "https://localhost:8080/"
        },
        "id": "BODFOB88z90W",
        "outputId": "0b2c521a-7a51-42f7-f604-316339654841",
        "vscode": {
          "languageId": "python"
        }
      },
      "outputs": [
        {
          "output_type": "stream",
          "name": "stdout",
          "text": [
            "<class 'str'>\n",
            "<class 'int'>\n",
            "<class 'float'>\n",
            "<class 'list'>\n",
            "<class 'bool'>\n"
          ]
        }
      ],
      "source": [
        "print(type(a))\n",
        "print(type(b))\n",
        "print(type(c))\n",
        "print(type(d))\n",
        "print(type(e))"
      ]
    },
    {
      "cell_type": "markdown",
      "metadata": {
        "id": "vXTUBmgiy9ty"
      },
      "source": [
        "Podemos acceder a toda una variable\n",
        "o parte de ella. En Python empezamos a contar desde el cero."
      ]
    },
    {
      "cell_type": "code",
      "execution_count": 4,
      "metadata": {
        "colab": {
          "base_uri": "https://localhost:8080/"
        },
        "id": "bTW_bZ2EzB0d",
        "outputId": "abc61dd1-2d35-477b-cda4-76325e815670",
        "vscode": {
          "languageId": "python"
        }
      },
      "outputs": [
        {
          "output_type": "stream",
          "name": "stdout",
          "text": [
            "['manzana', 'banana', 'naranja']\n",
            "manzana\n",
            "banana\n",
            "naranja\n"
          ]
        }
      ],
      "source": [
        "print(d)\n",
        "print(d[0])\n",
        "print(d[1])\n",
        "print(d[2])"
      ]
    },
    {
      "cell_type": "markdown",
      "metadata": {
        "id": "40UPR6qXwe8U"
      },
      "source": [
        "## Operadores aritméticos"
      ]
    },
    {
      "cell_type": "markdown",
      "metadata": {
        "id": "8nYKnKMU08f3"
      },
      "source": [
        "La suma, resta, división y multiplicación tiene una sintaxis intuitiva"
      ]
    },
    {
      "cell_type": "code",
      "execution_count": 5,
      "metadata": {
        "id": "g1q2FpxO1LFK",
        "vscode": {
          "languageId": "python"
        }
      },
      "outputs": [],
      "source": [
        "a=1\n",
        "b=2\n",
        "\n",
        "c=a+b\n",
        "c=a-b\n",
        "c=a*b\n",
        "c=a/b"
      ]
    },
    {
      "cell_type": "markdown",
      "metadata": {
        "id": "axTUsW1m1RED"
      },
      "source": [
        "Para una potencia utilizamos ** en lugar de ^"
      ]
    },
    {
      "cell_type": "code",
      "execution_count": 6,
      "metadata": {
        "colab": {
          "base_uri": "https://localhost:8080/"
        },
        "id": "-JL_GZgw1eW6",
        "outputId": "337f797a-c6a6-4604-d142-2428efff0674",
        "vscode": {
          "languageId": "python"
        }
      },
      "outputs": [
        {
          "output_type": "execute_result",
          "data": {
            "text/plain": [
              "1"
            ]
          },
          "metadata": {},
          "execution_count": 6
        }
      ],
      "source": [
        "c=a**2\n",
        "c"
      ]
    },
    {
      "cell_type": "markdown",
      "metadata": {
        "id": "2X-hWPP31nwO"
      },
      "source": [
        "Para hacer comparaciones usamos los operadores booleanos (devuelven verdadero o falso)"
      ]
    },
    {
      "cell_type": "code",
      "execution_count": 7,
      "metadata": {
        "colab": {
          "base_uri": "https://localhost:8080/"
        },
        "id": "fdt7YvSl1vvL",
        "outputId": "3feb190c-607d-4c3d-ad6d-b3792dfb6157",
        "vscode": {
          "languageId": "python"
        }
      },
      "outputs": [
        {
          "output_type": "stream",
          "name": "stdout",
          "text": [
            "True\n"
          ]
        }
      ],
      "source": [
        "a==1 #igualdad\n",
        "a!=1 #desiguladad\n",
        "a>1 #mayor\n",
        "a<=1 #menor igual\n",
        "\n",
        "print(a==1)"
      ]
    },
    {
      "cell_type": "markdown",
      "metadata": {
        "id": "LdhlH7Wswjyg"
      },
      "source": [
        "## Condicionales"
      ]
    },
    {
      "cell_type": "markdown",
      "metadata": {
        "id": "z51V8q5B6d3f"
      },
      "source": [
        "Sintaxis: `if  condición :`. Lo que vaya a estar dentro del if tiene que estar indentado 4 espacios"
      ]
    },
    {
      "cell_type": "code",
      "execution_count": 8,
      "metadata": {
        "colab": {
          "base_uri": "https://localhost:8080/"
        },
        "id": "7IFtN9my6puT",
        "outputId": "90da95d4-7e6f-47ae-853b-19265c8d01b5",
        "vscode": {
          "languageId": "python"
        }
      },
      "outputs": [
        {
          "output_type": "stream",
          "name": "stdout",
          "text": [
            "a es mayor que b\n"
          ]
        }
      ],
      "source": [
        "a = 200\n",
        "b = 33\n",
        "if b > a:\n",
        "  print(\"b es mayor que a\")\n",
        "elif a == b:\n",
        "  print(\"a y b son iguales\")\n",
        "else:\n",
        "  print(\"a es mayor que b\")"
      ]
    },
    {
      "cell_type": "markdown",
      "metadata": {
        "id": "HHcoQyNJw2wl"
      },
      "source": [
        "## Iteradores"
      ]
    },
    {
      "cell_type": "markdown",
      "metadata": {
        "id": "DSdhPK8G61BK"
      },
      "source": [
        "### Operador WHILE\n",
        "\n",
        "Es un iterador que se ejecuta hasta que **no** se cumpla una condicion especificada"
      ]
    },
    {
      "cell_type": "code",
      "execution_count": 9,
      "metadata": {
        "colab": {
          "base_uri": "https://localhost:8080/"
        },
        "id": "Qhql7UWF7Bw1",
        "outputId": "03111d4e-e672-4508-e7f7-095fc71c7579",
        "vscode": {
          "languageId": "python"
        }
      },
      "outputs": [
        {
          "output_type": "stream",
          "name": "stdout",
          "text": [
            "1\n",
            "2\n",
            "3\n",
            "4\n",
            "5\n"
          ]
        }
      ],
      "source": [
        "i = 1\n",
        "while i < 6:\n",
        "  print(i)\n",
        "  i = i + 1"
      ]
    },
    {
      "cell_type": "markdown",
      "metadata": {
        "id": "5t1gyZ7x7FBU"
      },
      "source": [
        "Se puede denter la iteración utilizando el comando `break`"
      ]
    },
    {
      "cell_type": "code",
      "execution_count": 10,
      "metadata": {
        "colab": {
          "base_uri": "https://localhost:8080/"
        },
        "id": "3-95b3dH7EJP",
        "outputId": "b100e363-8585-46f0-89f9-0d90d59c3ba9",
        "vscode": {
          "languageId": "python"
        }
      },
      "outputs": [
        {
          "output_type": "stream",
          "name": "stdout",
          "text": [
            "1\n",
            "2\n",
            "3\n"
          ]
        }
      ],
      "source": [
        "i = 1\n",
        "while i < 6:\n",
        "  print(i)\n",
        "  if i == 3:\n",
        "    break\n",
        "  i = i + 1"
      ]
    },
    {
      "cell_type": "markdown",
      "metadata": {
        "id": "13d_JX1W7TK-"
      },
      "source": [
        "### Operador FOR\n",
        "\n",
        "Es un iterador que se ejecuta entre dos valores.\n",
        "\n",
        "Hay muchas formas de escribir un `for` "
      ]
    },
    {
      "cell_type": "code",
      "execution_count": 11,
      "metadata": {
        "colab": {
          "base_uri": "https://localhost:8080/"
        },
        "id": "xBpsMcL77PhV",
        "outputId": "1e4c4bfe-b5f5-45bd-8bad-788bc5954829",
        "vscode": {
          "languageId": "python"
        }
      },
      "outputs": [
        {
          "output_type": "stream",
          "name": "stdout",
          "text": [
            "['manzana', 'banana', 'naranja']\n",
            "manzana\n",
            "banana\n",
            "naranja\n"
          ]
        }
      ],
      "source": [
        "print(d)\n",
        "for fruta in d:\n",
        "  print(fruta)\n"
      ]
    },
    {
      "cell_type": "code",
      "execution_count": 12,
      "metadata": {
        "colab": {
          "base_uri": "https://localhost:8080/"
        },
        "id": "OQRkimprS9Y0",
        "outputId": "d0dd1dd2-57d9-456b-d706-33a8732bdccd",
        "vscode": {
          "languageId": "python"
        }
      },
      "outputs": [
        {
          "output_type": "stream",
          "name": "stdout",
          "text": [
            "0\n",
            "1\n",
            "2\n",
            "3\n",
            "4\n",
            "5\n"
          ]
        }
      ],
      "source": [
        "for x in range(6):\n",
        "  print(x)"
      ]
    },
    {
      "cell_type": "code",
      "execution_count": 13,
      "metadata": {
        "colab": {
          "base_uri": "https://localhost:8080/"
        },
        "id": "dcao1uevS-th",
        "outputId": "8c22f400-634a-4eee-e1d5-cc6f636a647b",
        "vscode": {
          "languageId": "python"
        }
      },
      "outputs": [
        {
          "output_type": "stream",
          "name": "stdout",
          "text": [
            "2\n",
            "3\n",
            "4\n",
            "5\n"
          ]
        }
      ],
      "source": [
        "for x in range(2, 6):\n",
        "  print(x)"
      ]
    },
    {
      "cell_type": "markdown",
      "metadata": {
        "id": "_P8JeyMpw68k"
      },
      "source": [
        "## Funciones"
      ]
    },
    {
      "cell_type": "markdown",
      "metadata": {
        "id": "R5R7ALv-TB3d"
      },
      "source": [
        "Podemos crear funciones que ejecutan una serie de comandos cada vez que la llamamos. La sintaxis es:\n",
        "`def nombre(inputs):`"
      ]
    },
    {
      "cell_type": "code",
      "execution_count": 14,
      "metadata": {
        "colab": {
          "base_uri": "https://localhost:8080/"
        },
        "id": "PpSK8tYlTSBG",
        "outputId": "20e3162e-9671-4b0b-f082-46db8ff15cbf",
        "vscode": {
          "languageId": "python"
        }
      },
      "outputs": [
        {
          "output_type": "stream",
          "name": "stdout",
          "text": [
            "11\n"
          ]
        }
      ],
      "source": [
        "#Función\n",
        "def suma(a,b):\n",
        "    c=a+b\n",
        "    return c\n",
        "\n",
        "#Uso de la función\n",
        "x=4\n",
        "y=7\n",
        "z=suma(x,y)\n",
        "print(z)"
      ]
    },
    {
      "cell_type": "markdown",
      "metadata": {
        "id": "4H_y1ka-xHCk"
      },
      "source": [
        "# Numpy"
      ]
    },
    {
      "cell_type": "markdown",
      "metadata": {
        "id": "qIkKEcMf7h2c"
      },
      "source": [
        "NumPy es una biblioteca que da soporte para crear y manipular vectores y matrices grandes multidimensionales, junto con una gran colección de funciones matemáticas de alto nivel para operar con ellas.\n",
        "\n",
        "### ¿Por qué Numpy?\n",
        "En Python existen las “listas” para trabajar con vectores y matrices, pero su proceso es muy lento. Los arrays de Numpy trabajan hasta 50 veces mas rápido. Adicionalmente trae muchas funciones para operaciones algebraicas ya programadas, lo que nos ahorra tiempo a la hora de escribir nuestro código.\n",
        "\n",
        "### ¿Qué es un array?\n",
        "Un array es la estructura de datos central de NumPy. Es una grilla con valores que tiene información sobre sus datos, como localizar esa información y como intepretar cada elemento."
      ]
    },
    {
      "cell_type": "markdown",
      "metadata": {
        "id": "mSLfSiDAbm9o"
      },
      "source": [
        "## Importar la librería"
      ]
    },
    {
      "cell_type": "code",
      "execution_count": 15,
      "metadata": {
        "id": "4Do4_RwSb1RA",
        "vscode": {
          "languageId": "python"
        }
      },
      "outputs": [],
      "source": [
        "#import numpy\n",
        "#from numpy import *\n",
        "import numpy as np\n",
        "#from numpy import sin"
      ]
    },
    {
      "cell_type": "markdown",
      "metadata": {
        "id": "itfaoIaKb9bL"
      },
      "source": [
        "## Crear arrays"
      ]
    },
    {
      "cell_type": "code",
      "execution_count": 16,
      "metadata": {
        "colab": {
          "base_uri": "https://localhost:8080/"
        },
        "id": "QEQKpSvYb8ug",
        "outputId": "7a34e57f-2a64-43e9-900b-707d3eff2f5a",
        "vscode": {
          "languageId": "python"
        }
      },
      "outputs": [
        {
          "output_type": "execute_result",
          "data": {
            "text/plain": [
              "array([[ 0.  , -3.  ],\n",
              "       [ 1.  ,  0.5 ],\n",
              "       [ 1.  ,  2.  ],\n",
              "       [-1.  ,  0.  ],\n",
              "       [ 3.  , -0.25]])"
            ]
          },
          "metadata": {},
          "execution_count": 16
        }
      ],
      "source": [
        "#Array 1D (vector)\n",
        "v=np.array([0.2,-0.9])\n",
        "\n",
        "#Array 2D (matriz)\n",
        "A = np.array([[0,-3],[1,0.5],[1,2],[-1,0],[3,-0.25]])\n",
        "A"
      ]
    },
    {
      "cell_type": "markdown",
      "metadata": {
        "id": "GdfbSTSrcY8L"
      },
      "source": [
        "Los arrays pueden tener **n** dimensiones\n",
        "![image.png](data:image/png;base64,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)"
      ]
    },
    {
      "cell_type": "markdown",
      "metadata": {
        "id": "3SJmLfcFcnVb"
      },
      "source": [
        "## Dimensiones de un array\n",
        "\n",
        "Para conocer las dimensiones de un array usamos la función `shape`\n"
      ]
    },
    {
      "cell_type": "code",
      "execution_count": 17,
      "metadata": {
        "colab": {
          "base_uri": "https://localhost:8080/"
        },
        "id": "GSo29XfLc1hd",
        "outputId": "9a9a44d4-91fb-4c76-bad3-2b7d3e0d4137",
        "vscode": {
          "languageId": "python"
        }
      },
      "outputs": [
        {
          "output_type": "execute_result",
          "data": {
            "text/plain": [
              "(5, 2)"
            ]
          },
          "metadata": {},
          "execution_count": 17
        }
      ],
      "source": [
        "A.shape"
      ]
    },
    {
      "cell_type": "markdown",
      "metadata": {
        "id": "A0jCeyhbdDwh"
      },
      "source": [
        "## Acceder a valores del array\n",
        "\n",
        "Podemos acceder a un valor único asi como a un rango"
      ]
    },
    {
      "cell_type": "code",
      "execution_count": 18,
      "metadata": {
        "colab": {
          "base_uri": "https://localhost:8080/"
        },
        "id": "y98dn1BxdDFz",
        "outputId": "9368cd7e-3fe8-4cc5-cf6e-dd122d7ff101",
        "vscode": {
          "languageId": "python"
        }
      },
      "outputs": [
        {
          "output_type": "execute_result",
          "data": {
            "text/plain": [
              "array([[ 0. , -3. ],\n",
              "       [ 1. ,  0.5]])"
            ]
          },
          "metadata": {},
          "execution_count": 18
        }
      ],
      "source": [
        "A[0,1]\n",
        "A[0:2,:]"
      ]
    },
    {
      "cell_type": "markdown",
      "metadata": {
        "id": "vghHFQaWeGbQ"
      },
      "source": [
        "## Modificar arrays\n",
        "\n",
        "Para modificar el valor de un array en un punto o un rango accedemos a ese rango de la siguiente forma"
      ]
    },
    {
      "cell_type": "code",
      "execution_count": 19,
      "metadata": {
        "colab": {
          "base_uri": "https://localhost:8080/"
        },
        "id": "dbXzIiOoeO4W",
        "outputId": "9d538074-850d-4374-feb4-198b670f0917",
        "vscode": {
          "languageId": "python"
        }
      },
      "outputs": [
        {
          "output_type": "stream",
          "name": "stdout",
          "text": [
            "[[ 0.   -3.  ]\n",
            " [ 1.    0.5 ]\n",
            " [ 1.    2.  ]\n",
            " [-1.    0.  ]\n",
            " [ 3.   -0.25]]\n",
            "[[100.    -3.  ]\n",
            " [  1.     0.5 ]\n",
            " [  1.     2.  ]\n",
            " [ -1.     0.  ]\n",
            " [  3.    -0.25]]\n",
            "[[100.    -3.  ]\n",
            " [123.   123.  ]\n",
            " [123.   123.  ]\n",
            " [ -1.     0.  ]\n",
            " [  3.    -0.25]]\n"
          ]
        }
      ],
      "source": [
        "print(A)\n",
        "\n",
        "A[0,0]=100\n",
        "\n",
        "print(A)\n",
        "\n",
        "A[1:3,:]=123\n",
        "\n",
        "print(A)"
      ]
    },
    {
      "cell_type": "markdown",
      "metadata": {
        "id": "GVH9YiV6ekyf"
      },
      "source": [
        "## Arrays especiales\n",
        "\n",
        "Numpy tiene algnas funciones para crear arrays especiales como: array con ceros, con unos, matriz diagonal, numeros aleatorios, vectores con valores equidistantes"
      ]
    },
    {
      "cell_type": "code",
      "execution_count": 20,
      "metadata": {
        "id": "QnIeTohbe2Qk",
        "vscode": {
          "languageId": "python"
        }
      },
      "outputs": [],
      "source": [
        "D=np.zeros([3,3])\n",
        "E=np.ones([5,2])\n",
        "F=np.eye(3)"
      ]
    },
    {
      "cell_type": "code",
      "execution_count": 21,
      "metadata": {
        "id": "AbbqYcfqfgHP",
        "vscode": {
          "languageId": "python"
        }
      },
      "outputs": [],
      "source": [
        "#Numero aleatorios entero entre 2 numeros\n",
        "G=np.random.randint(0,10)\n",
        "#Array con numeros aleatorios enteros entre dos numeros\n",
        "H=np.random.randint(0,10,size=(2,3))\n",
        "#Array con numeros aleatorios reales entre 0 y 1\n",
        "I=np.random.rand(2,6)"
      ]
    },
    {
      "cell_type": "code",
      "execution_count": 22,
      "metadata": {
        "colab": {
          "base_uri": "https://localhost:8080/"
        },
        "id": "yZqJ6Ke-gPF_",
        "outputId": "9637b651-6e3a-4aba-aaae-dd63ccaafcd0",
        "vscode": {
          "languageId": "python"
        }
      },
      "outputs": [
        {
          "output_type": "execute_result",
          "data": {
            "text/plain": [
              "array([0. , 0.2, 0.4, 0.6, 0.8, 1. , 1.2, 1.4, 1.6, 1.8, 2. , 2.2, 2.4,\n",
              "       2.6, 2.8, 3. , 3.2, 3.4, 3.6, 3.8, 4. , 4.2, 4.4, 4.6, 4.8, 5. ,\n",
              "       5.2, 5.4, 5.6, 5.8, 6. , 6.2, 6.4, 6.6, 6.8, 7. , 7.2, 7.4, 7.6,\n",
              "       7.8, 8. , 8.2, 8.4, 8.6, 8.8, 9. , 9.2, 9.4, 9.6, 9.8])"
            ]
          },
          "metadata": {},
          "execution_count": 22
        }
      ],
      "source": [
        "J=np.linspace(0,10,num=50)\n",
        "K=np.arange(0,10,0.2)\n",
        "K"
      ]
    },
    {
      "cell_type": "markdown",
      "metadata": {
        "id": "SS78jiObmqYY"
      },
      "source": [
        "## Operaciones con arrays\n",
        "\n",
        "Con los arrays podemos operar punto por punto o con algebra matricial"
      ]
    },
    {
      "cell_type": "code",
      "execution_count": 23,
      "metadata": {
        "colab": {
          "base_uri": "https://localhost:8080/"
        },
        "id": "hxiHlkzDnG89",
        "outputId": "82f288db-9084-4fb8-93fa-14e1dbcc5bf5",
        "vscode": {
          "languageId": "python"
        }
      },
      "outputs": [
        {
          "output_type": "execute_result",
          "data": {
            "text/plain": [
              "20"
            ]
          },
          "metadata": {},
          "execution_count": 23
        }
      ],
      "source": [
        "#Suma\n",
        "D+D\n",
        "#Resta\n",
        "D-D\n",
        "#Multiplicacion (punto a punto)\n",
        "D*D\n",
        "#Producto escalar\n",
        "v1=np.array([1,2,3])\n",
        "v2=np.array([2,3,4])\n",
        "v1@v2\n",
        "#np.dot(v1,v2)"
      ]
    },
    {
      "cell_type": "markdown",
      "metadata": {
        "id": "J3PfgD1qndWt"
      },
      "source": [
        "## Maximos, mínimos, suma y media"
      ]
    },
    {
      "cell_type": "code",
      "execution_count": 24,
      "metadata": {
        "colab": {
          "base_uri": "https://localhost:8080/"
        },
        "id": "2n2PBETvnctY",
        "outputId": "dd5506d3-82ca-43fb-d5e4-5f8389223d13",
        "vscode": {
          "languageId": "python"
        }
      },
      "outputs": [
        {
          "output_type": "execute_result",
          "data": {
            "text/plain": [
              "0.0"
            ]
          },
          "metadata": {},
          "execution_count": 24
        }
      ],
      "source": [
        "D.max()\n",
        "D.min()\n",
        "D.mean()\n",
        "D.sum()"
      ]
    },
    {
      "cell_type": "markdown",
      "metadata": {
        "id": "bqkR0xrCnr-s"
      },
      "source": [
        "## Funciones trigonometricas"
      ]
    },
    {
      "cell_type": "code",
      "execution_count": 25,
      "metadata": {
        "id": "-HVKI0VxnrB3",
        "vscode": {
          "languageId": "python"
        }
      },
      "outputs": [],
      "source": [
        "x=np.linspace(0,2*np.pi,num=50)\n",
        "y=np.sin(x)\n",
        "z=np.cos(x)"
      ]
    },
    {
      "cell_type": "markdown",
      "metadata": {
        "id": "wLEJev1In0L9"
      },
      "source": [
        "## Copiar un array"
      ]
    },
    {
      "cell_type": "code",
      "execution_count": 26,
      "metadata": {
        "colab": {
          "base_uri": "https://localhost:8080/"
        },
        "id": "khM-KLmtn24U",
        "outputId": "a1f1ad6f-68ef-4935-c7e1-ea54efadc2ea",
        "vscode": {
          "languageId": "python"
        }
      },
      "outputs": [
        {
          "output_type": "stream",
          "name": "stdout",
          "text": [
            "x= [0 1 2 3 4]\n",
            "y= [0 1 2 3 4]\n",
            "x= [0 0 2 3 4]\n",
            "y= [0 0 2 3 4]\n",
            "z= [0 0 2 3 4]\n",
            "x= [0 8 2 3 4]\n",
            "z= [0 0 2 3 4]\n"
          ]
        }
      ],
      "source": [
        "x=np.array([0, 1, 2, 3, 4])\n",
        "print('x=',x)\n",
        "\n",
        "y=x\n",
        "\n",
        "print('y=',y)\n",
        "\n",
        "x[1]=0\n",
        "\n",
        "print('x=',x)\n",
        "print('y=',y)\n",
        "\n",
        "z=np.copy(x)\n",
        "\n",
        "print('z=',z)\n",
        "\n",
        "x[1]=8\n",
        "\n",
        "print('x=',x)\n",
        "print('z=',z)"
      ]
    },
    {
      "cell_type": "markdown",
      "metadata": {
        "id": "MlUoWzcBxbmE"
      },
      "source": [
        "# Matplotlib\n",
        "\n",
        "Matplotlib es una biblioteca para crear gráficos estáticos, animados e interactivos en Pyhon utilizando NumPy. Hay dos métodos para plotear, solo vamos a mostrar el método mas simple (diseñado para ser similar a Matlab).\n"
      ]
    },
    {
      "cell_type": "markdown",
      "metadata": {
        "id": "_QVYsO2jvAju"
      },
      "source": [
        "## Importar librería"
      ]
    },
    {
      "cell_type": "code",
      "execution_count": 27,
      "metadata": {
        "id": "eU9avsaQu5zK",
        "vscode": {
          "languageId": "python"
        }
      },
      "outputs": [],
      "source": [
        "import matplotlib.pyplot as plt"
      ]
    },
    {
      "cell_type": "markdown",
      "metadata": {
        "id": "G-oC6QPHvFnc"
      },
      "source": [
        "## Gráfico simple"
      ]
    },
    {
      "cell_type": "code",
      "execution_count": 28,
      "metadata": {
        "colab": {
          "base_uri": "https://localhost:8080/",
          "height": 282
        },
        "id": "Y7K_GRAlu1Cu",
        "outputId": "f4ffb9c1-8e71-46f8-b0e6-bb75b78f0f01",
        "vscode": {
          "languageId": "python"
        }
      },
      "outputs": [
        {
          "output_type": "execute_result",
          "data": {
            "text/plain": [
              "[<matplotlib.lines.Line2D at 0x7fa16040e130>]"
            ]
          },
          "metadata": {},
          "execution_count": 28
        },
        {
          "output_type": "display_data",
          "data": {
            "text/plain": [
              "<Figure size 432x288 with 1 Axes>"
            ],
            "image/png": "[encoded data removed]"
          },
          "metadata": {
            "needs_background": "light"
          }
        }
      ],
      "source": [
        "x = np.linspace(0, 10, 100)\n",
        "y = np.sin(x)\n",
        "plt.plot(x,y)"
      ]
    },
    {
      "cell_type": "markdown",
      "metadata": {
        "id": "ATSS5XkXvRJl"
      },
      "source": [
        "## Multiples gráficos superpuestos"
      ]
    },
    {
      "cell_type": "code",
      "execution_count": 29,
      "metadata": {
        "colab": {
          "base_uri": "https://localhost:8080/",
          "height": 265
        },
        "id": "wGAG3iSRvLt2",
        "outputId": "ff6e6fe5-a26b-480a-c599-228186d956ed",
        "vscode": {
          "languageId": "python"
        }
      },
      "outputs": [
        {
          "output_type": "display_data",
          "data": {
            "text/plain": [
              "<Figure size 432x288 with 1 Axes>"
            ],
            "image/png": "[encoded data removed]"
          },
          "metadata": {
            "needs_background": "light"
          }
        }
      ],
      "source": [
        "plt.plot(x,np.sin(x))\n",
        "plt.plot(x,np.cos(x));"
      ]
    },
    {
      "cell_type": "markdown",
      "metadata": {
        "id": "odCWjimVvX63"
      },
      "source": [
        "## Ajustes de estilo"
      ]
    },
    {
      "cell_type": "code",
      "execution_count": 30,
      "metadata": {
        "colab": {
          "base_uri": "https://localhost:8080/",
          "height": 265
        },
        "id": "YdwSi_awvZaO",
        "outputId": "bb2e94e3-3f0b-444b-fa6f-e266b55a3b65",
        "vscode": {
          "languageId": "python"
        }
      },
      "outputs": [
        {
          "output_type": "display_data",
          "data": {
            "text/plain": [
              "<Figure size 432x288 with 1 Axes>"
            ],
            "image/png": "[encoded data removed]"
          },
          "metadata": {
            "needs_background": "light"
          }
        }
      ],
      "source": [
        "plt.plot(x, np.sin(x - 1),'r')           # color (c)\n",
        "plt.plot(x, np.sin(x - 2),'--')          # linestyle (ls)\n",
        "plt.plot(x, np.sin(x - 3),'x')           # marker\n",
        "plt.plot(x, np.sin(x - 4),'-ob');        # combinado\n",
        "plt.plot(x, np.sin(x - 5),linewidth=4)   # linewidth (lw)\n",
        "plt.grid()                               # grilla"
      ]
    },
    {
      "cell_type": "markdown",
      "metadata": {
        "id": "66DFUfRPviXb"
      },
      "source": [
        "## Ajustes de ejes"
      ]
    },
    {
      "cell_type": "code",
      "execution_count": 31,
      "metadata": {
        "colab": {
          "base_uri": "https://localhost:8080/",
          "height": 265
        },
        "id": "Q1jehXdkvj6T",
        "outputId": "9e5e8859-381f-43b1-caf3-97837f07f667",
        "vscode": {
          "languageId": "python"
        }
      },
      "outputs": [
        {
          "output_type": "display_data",
          "data": {
            "text/plain": [
              "<Figure size 432x288 with 1 Axes>"
            ],
            "image/png": "[encoded data removed]"
          },
          "metadata": {
            "needs_background": "light"
          }
        }
      ],
      "source": [
        "plt.plot(x, np.sin(x))\n",
        "plt.grid()\n",
        "plt.xlim(-1, 11)\n",
        "plt.ylim(-1.5, 1.5);\n",
        "plt.axis('equal'); #relación aspecto"
      ]
    },
    {
      "cell_type": "markdown",
      "metadata": {
        "id": "Qlg_0YZYv3JE"
      },
      "source": [
        "## Leyendas"
      ]
    },
    {
      "cell_type": "code",
      "execution_count": 32,
      "metadata": {
        "colab": {
          "base_uri": "https://localhost:8080/",
          "height": 295
        },
        "id": "Y5wZEds3v4m2",
        "outputId": "c538e855-b967-4f2e-9dc2-bc1d22392cad",
        "vscode": {
          "languageId": "python"
        }
      },
      "outputs": [
        {
          "output_type": "display_data",
          "data": {
            "text/plain": [
              "<Figure size 432x288 with 1 Axes>"
            ],
            "image/png": "[encoded data removed]"
          },
          "metadata": {
            "needs_background": "light"
          }
        }
      ],
      "source": [
        "plt.plot(x, np.sin(x),label='sin(x)')\n",
        "plt.plot(x, np.cos(x),label='cos(x)')\n",
        "plt.title(\"Titulo del grafico\")\n",
        "plt.xlabel(\"eje horizontal\")\n",
        "plt.ylabel(\"eje vertical\");\n",
        "plt.legend();"
      ]
    },
    {
      "cell_type": "markdown",
      "metadata": {
        "id": "eh7QXFvIxUv1"
      },
      "source": [
        "# SciPy\n",
        "\n",
        "SciPy es una colección de algoritmos matemáticos y funciones avanzadas escritas en NumPy.\n",
        "\n",
        "Algunos de los módulos implementados permiten hacer:\n",
        "algebra lineal, integrales, interpolaciones, optimizaciones, regresiones, transformadas de Fourier, entre otros.\n",
        "\n"
      ]
    },
    {
      "cell_type": "markdown",
      "metadata": {
        "id": "riyFAEkokySc"
      },
      "source": [
        "## Integrales\n",
        "\n",
        "\n",
        "\n"
      ]
    },
    {
      "cell_type": "code",
      "execution_count": 33,
      "metadata": {
        "id": "AD_QhKIElpgP",
        "vscode": {
          "languageId": "python"
        }
      },
      "outputs": [],
      "source": [
        "# Funcion a integrar\n",
        "def f(x):\n",
        "    return x"
      ]
    },
    {
      "cell_type": "markdown",
      "metadata": {
        "id": "Rr1u4JBMmel1"
      },
      "source": [
        "Para calcular numéricamente la integral entre dos puntos usamos la funcion `quad`"
      ]
    },
    {
      "cell_type": "code",
      "execution_count": 34,
      "metadata": {
        "id": "bN0cIYDYk9Vz",
        "vscode": {
          "languageId": "python"
        }
      },
      "outputs": [],
      "source": [
        "from scipy.integrate import quad\n",
        "\n",
        "x_1 = 0 # limite inferior\n",
        "x_2 = 1 # limite superior\n",
        "\n",
        "val, abserr = quad(f, x_1, x_2)"
      ]
    },
    {
      "cell_type": "markdown",
      "metadata": {
        "id": "11pSxSzklBD_"
      },
      "source": [
        "## Optimizacion"
      ]
    },
    {
      "cell_type": "code",
      "execution_count": 35,
      "metadata": {
        "colab": {
          "base_uri": "https://localhost:8080/",
          "height": 265
        },
        "id": "NiIxC53Dlh_9",
        "outputId": "808420b0-9266-40ed-a699-eecc965c377d",
        "vscode": {
          "languageId": "python"
        }
      },
      "outputs": [
        {
          "output_type": "display_data",
          "data": {
            "text/plain": [
              "<Figure size 432x288 with 1 Axes>"
            ],
            "image/png": "[encoded data removed]"
          },
          "metadata": {
            "needs_background": "light"
          }
        }
      ],
      "source": [
        "def f(x):\n",
        "    return 5*x**3 + 2*(x-2)**2 + x**4\n",
        "\n",
        "x = np.linspace(-5, 3, 100)\n",
        "plt.plot(x, f(x));"
      ]
    },
    {
      "cell_type": "markdown",
      "metadata": {
        "id": "BhakNLxjmsZH"
      },
      "source": [
        "Hay muchos métodos para buscar el mínimo local de una funcion. En este caso usamos la funcion `fmin_bfgs` del módulo `optimize` y para ello debemos definir el valor de x inicial con el que se hará la optimización."
      ]
    },
    {
      "cell_type": "code",
      "execution_count": 36,
      "metadata": {
        "colab": {
          "base_uri": "https://localhost:8080/"
        },
        "id": "tjFFzze3lAhI",
        "outputId": "4ba274b5-d213-4c1a-abbc-340a5848f66b",
        "vscode": {
          "languageId": "python"
        }
      },
      "outputs": [
        {
          "output_type": "stream",
          "name": "stdout",
          "text": [
            "Optimization terminated successfully.\n",
            "         Current function value: 5.121102\n",
            "         Iterations: 4\n",
            "         Function evaluations: 12\n",
            "         Gradient evaluations: 6\n"
          ]
        }
      ],
      "source": [
        "from scipy import optimize\n",
        "x_min = optimize.fmin_bfgs(f, 1)"
      ]
    },
    {
      "cell_type": "markdown",
      "metadata": {
        "id": "b307WuyolY4h"
      },
      "source": [
        "## Regresiones"
      ]
    },
    {
      "cell_type": "code",
      "execution_count": 37,
      "metadata": {
        "colab": {
          "base_uri": "https://localhost:8080/",
          "height": 265
        },
        "id": "pnrsxmADlXT8",
        "outputId": "2ff1bf20-83e6-4083-95fa-a46695455483",
        "vscode": {
          "languageId": "python"
        }
      },
      "outputs": [
        {
          "output_type": "display_data",
          "data": {
            "text/plain": [
              "<Figure size 432x288 with 1 Axes>"
            ],
            "image/png": "[encoded data removed]"
          },
          "metadata": {
            "needs_background": "light"
          }
        }
      ],
      "source": [
        "x=np.linspace(0,10,num=100)\n",
        "xshape=x.shape\n",
        "y=x+np.random.rand(100)*2 + 3\n",
        "plt.scatter(x,y)\n",
        "plt.grid()"
      ]
    },
    {
      "cell_type": "markdown",
      "metadata": {
        "id": "z8qj4Y1InQPt"
      },
      "source": [
        "La función `curve_fit` busca los coeficientes de una función arbitraria que minimizan el error entre la funci{on definida y los puntos a ajustar."
      ]
    },
    {
      "cell_type": "code",
      "execution_count": 38,
      "metadata": {
        "colab": {
          "base_uri": "https://localhost:8080/",
          "height": 282
        },
        "id": "C6NVBe4dlSXk",
        "outputId": "b9cc7f67-c1e5-44d1-b587-30af8e934022",
        "vscode": {
          "languageId": "python"
        }
      },
      "outputs": [
        {
          "output_type": "stream",
          "name": "stdout",
          "text": [
            "a= 0.9999797985683466 , b= 4.097379328385428\n"
          ]
        },
        {
          "output_type": "display_data",
          "data": {
            "text/plain": [
              "<Figure size 432x288 with 1 Axes>"
            ],
            "image/png": "[encoded data removed]"
          },
          "metadata": {
            "needs_background": "light"
          }
        }
      ],
      "source": [
        "from scipy.optimize import curve_fit\n",
        "\n",
        "def funcion(x,a,b):\n",
        "    return a*x+b\n",
        "\n",
        "popt, pcov = curve_fit(funcion, x, y)\n",
        "perr = np.sqrt(np.diag(pcov))\n",
        "\n",
        "plt.scatter(x,y)\n",
        "plt.grid()\n",
        "\n",
        "y_ajustada=funcion(x, *popt)\n",
        "plt.plot(x,y_ajustada,c='r');\n",
        "print('a=',popt[0],', b=',popt[1])"
      ]
    },
    {
      "cell_type": "markdown",
      "metadata": {
        "id": "c0UTgUNUmGDF"
      },
      "source": [
        "## Raiz de una función"
      ]
    },
    {
      "cell_type": "code",
      "execution_count": 39,
      "metadata": {
        "colab": {
          "base_uri": "https://localhost:8080/",
          "height": 265
        },
        "id": "40qXT3IUmKOY",
        "outputId": "e5a1d3b0-cc6d-43f8-fc07-c2b106f56aa5",
        "vscode": {
          "languageId": "python"
        }
      },
      "outputs": [
        {
          "output_type": "display_data",
          "data": {
            "text/plain": [
              "<Figure size 432x288 with 1 Axes>"
            ],
            "image/png": "[encoded data removed]"
          },
          "metadata": {
            "needs_background": "light"
          }
        }
      ],
      "source": [
        "def f(x):\n",
        "    return np.sin(x)\n",
        "\n",
        "x = np.linspace(-5, 3, 100)\n",
        "plt.plot(x, f(x));\n",
        "plt.plot(x,np.zeros_like(x),'--k')\n",
        "plt.grid()"
      ]
    },
    {
      "cell_type": "markdown",
      "metadata": {
        "id": "g52dq8OdmL6r"
      },
      "source": [
        "Usando el método de Newton se puede encontrar la raiz de la funci{on"
      ]
    },
    {
      "cell_type": "code",
      "execution_count": 40,
      "metadata": {
        "colab": {
          "base_uri": "https://localhost:8080/"
        },
        "id": "JaJIfCUDmSEg",
        "outputId": "99edeb20-5832-44fd-ea07-8f1bdaa467c6",
        "vscode": {
          "languageId": "python"
        }
      },
      "outputs": [
        {
          "output_type": "stream",
          "name": "stdout",
          "text": [
            "-3.141592653589793\n"
          ]
        }
      ],
      "source": [
        "from scipy import optimize\n",
        "\n",
        "root = optimize.newton(f, -4)\n",
        "print(root)"
      ]
    },
    {
      "cell_type": "markdown",
      "metadata": {
        "id": "7ak1ZItymQyB"
      },
      "source": [
        "## Sistema de ecuaciones lineales\n",
        "\n",
        "Para resolver un sistema de ecuaciones simplemente tenemos que escribirlo en forma algebráica, de esta forma podemos expresar un sistema\n",
        "\n",
        "\n",
        "$x+y=1$\n",
        "\n",
        "$2x+z=2$\n",
        "\n",
        "$y+3z=-2$\n",
        "\n",
        "Puedo expresar el problema como $A \\bar{x} = \\bar{b}$\n",
        "\n",
        "Donde $A$ es una matriz de coeficientes, $b$ el vector de términos independientes y $x$ el vector incógnita."
      ]
    },
    {
      "cell_type": "code",
      "execution_count": 41,
      "metadata": {
        "colab": {
          "base_uri": "https://localhost:8080/"
        },
        "id": "hGbdhz84ow2Z",
        "outputId": "216bf007-5838-47ea-cdfd-a122b9801ba3",
        "vscode": {
          "languageId": "python"
        }
      },
      "outputs": [
        {
          "output_type": "stream",
          "name": "stdout",
          "text": [
            "A= [[1 1 0]\n",
            " [2 0 1]\n",
            " [0 1 3]]\n",
            "b= [ 1  2 -2]\n",
            "[ 1.28571429 -0.28571429 -0.57142857]\n"
          ]
        }
      ],
      "source": [
        "from scipy.linalg import solve\n",
        "\n",
        "A=np.array([[1,1,0],[2,0,1],[0,1,3]])\n",
        "print('A=',A)\n",
        "\n",
        "b=np.array([1,2,-2])\n",
        "print('b=',b)\n",
        "\n",
        "x=solve(A,b)\n",
        "print(x)\n",
        "\n"
      ]
    },
    {
      "cell_type": "markdown",
      "metadata": {
        "id": "y_g2-0evo0pk"
      },
      "source": [
        "Chequeamos que el resultado sea correcto, evaluando $A \\bar{x}$"
      ]
    },
    {
      "cell_type": "code",
      "execution_count": 42,
      "metadata": {
        "colab": {
          "base_uri": "https://localhost:8080/"
        },
        "id": "dQ00ZRhuo61c",
        "outputId": "58a7d51e-c7b9-4f8b-f07a-3993387892a9",
        "vscode": {
          "languageId": "python"
        }
      },
      "outputs": [
        {
          "output_type": "execute_result",
          "data": {
            "text/plain": [
              "array([ 1.,  2., -2.])"
            ]
          },
          "metadata": {},
          "execution_count": 42
        }
      ],
      "source": [
        "A@x"
      ]
    }
  ],
  "metadata": {
    "colab": {
      "provenance": []
    },
    "kernelspec": {
      "display_name": "Python 3",
      "name": "python3"
    }
  },
  "nbformat": 4,
  "nbformat_minor": 0
}